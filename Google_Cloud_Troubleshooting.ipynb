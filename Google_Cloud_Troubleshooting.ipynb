{
  "nbformat": 4,
  "nbformat_minor": 0,
  "metadata": {
    "colab": {
      "provenance": [],
      "authorship_tag": "ABX9TyNu6O8/uWsb+964788CgzIH",
      "include_colab_link": true
    },
    "kernelspec": {
      "name": "python3",
      "display_name": "Python 3"
    },
    "language_info": {
      "name": "python"
    }
  },
  "cells": [
    {
      "cell_type": "markdown",
      "metadata": {
        "id": "view-in-github",
        "colab_type": "text"
      },
      "source": [
        "<a href=\"https://colab.research.google.com/github/wrenchchat/the-littlest-jupyterhub/blob/main/Google_Cloud_Troubleshooting.ipynb\" target=\"_parent\"><img src=\"https://colab.research.google.com/assets/colab-badge.svg\" alt=\"Open In Colab\"/></a>"
      ]
    },
    {
      "cell_type": "markdown",
      "source": [
        "You can copy and paste from this notebook or enter your project and systme account info in the env variables and run the diagnostics from the notebook. Totally up to. I jest find this format very convenient when I'm trying to figure out what happened six months from now."
      ],
      "metadata": {
        "id": "NeHi2s5clLQC"
      }
    },
    {
      "cell_type": "markdown",
      "source": [
        "Run the diagnostics tool gcpdiag (enable APIs first):"
      ],
      "metadata": {
        "id": "AoTM2-QOh14_"
      }
    },
    {
      "cell_type": "code",
      "source": [
        "gcloud --project=MYPROJECT services enable \\\n",
        "    cloudresourcemanager.googleapis.com \\\n",
        "    iam.googleapis.com \\\n",
        "    logging.googleapis.com \\\n",
        "    serviceusage.googleapis.com"
      ],
      "metadata": {
        "id": "gj4aDHnhiG0g"
      },
      "execution_count": null,
      "outputs": []
    },
    {
      "cell_type": "code",
      "source": [
        "gcpdiag lint --project=PROJECT_ID"
      ],
      "metadata": {
        "id": "3-F6YKZHiZGl"
      },
      "execution_count": null,
      "outputs": []
    },
    {
      "cell_type": "markdown",
      "source": [
        "I also recommend running these commands. There is some overlap but still worhwhile."
      ],
      "metadata": {
        "id": "Hb_p_zFjijQm"
      }
    },
    {
      "cell_type": "markdown",
      "source": [
        "VPC Setup"
      ],
      "metadata": {
        "id": "7qymm0P6isPO"
      }
    },
    {
      "cell_type": "code",
      "execution_count": null,
      "metadata": {
        "id": "rxpqEmPohgok"
      },
      "outputs": [],
      "source": [
        "gcloud compute shared-vpc enable spark-dev-techops-infra\n",
        "gcloud compute shared-vpc associated-projects add spark-lambda-experiments --host-project spark-dev-techops-infra"
      ]
    },
    {
      "cell_type": "markdown",
      "source": [
        "Service Account Roles"
      ],
      "metadata": {
        "id": "APz2Jd9Xi3RG"
      }
    },
    {
      "cell_type": "code",
      "source": [
        "gcloud projects add-iam-policy-binding spark-dev-techops-infra \\\n",
        "    --member=\"serviceAccount:service-<service-project-number>@gcp-sa-composer.iam.gserviceaccount.com\" \\\n",
        "    --role=\"roles/compute.networkUser\"\n",
        "\n",
        "gcloud projects add-iam-policy-binding spark-dev-techops-infra \\\n",
        "    --member=\"serviceAccount:service-<service-project-number>@gcp-sa-composer.iam.gserviceaccount.com\" \\\n",
        "    --role=\"roles/iam.serviceAccountUser\""
      ],
      "metadata": {
        "id": "Gr9Ipe-Vi3cM"
      },
      "execution_count": null,
      "outputs": []
    },
    {
      "cell_type": "markdown",
      "source": [
        "Service Account Permissions"
      ],
      "metadata": {
        "id": "0LMXAAVci3mm"
      }
    },
    {
      "cell_type": "code",
      "source": [
        "gcloud projects add-iam-policy-binding spark-lambda-experiments \\\n",
        "    --member=\"serviceAccount:service-<service-project-number>@gcp-sa-composer.iam.gserviceaccount.com\" \\\n",
        "    --role=\"roles/composer.admin\"\n",
        "\n",
        "gcloud projects add-iam-policy-binding spark-lambda-experiments \\\n",
        "    --member=\"serviceAccount:service-<service-project-number>@gcp-sa-composer.iam.gserviceaccount.com\" \\\n",
        "    --role=\"roles/iam.serviceAccountUser\""
      ],
      "metadata": {
        "id": "glyPiNyIi3vv"
      },
      "execution_count": null,
      "outputs": []
    },
    {
      "cell_type": "markdown",
      "source": [
        "Enable Composer API:"
      ],
      "metadata": {
        "id": "iQM53z5fi34-"
      }
    },
    {
      "cell_type": "code",
      "source": [
        "gcloud services enable composer.googleapis.com --project=spark-dev-techops-infra\n",
        "gcloud services enable composer.googleapis.com --project=spark-lambda-experiments"
      ],
      "metadata": {
        "id": "ROOa2AM5i4CZ"
      },
      "execution_count": null,
      "outputs": []
    },
    {
      "cell_type": "markdown",
      "source": [
        "Check Network Attachment"
      ],
      "metadata": {
        "id": "_Y6z96zRi4Lj"
      }
    },
    {
      "cell_type": "code",
      "source": [
        "gcloud composer environments create my-environment \\\n",
        "    --location us-central1 \\\n",
        "    --network projects/spark-dev-techops-infra/global/networks/rbk-techops-spark-prod-vpc \\\n",
        "    --subnet projects/spark-dev-techops-infra/regions/us-central1/subnetworks/spark-lambda-experiments"
      ],
      "metadata": {
        "id": "bUA1WR4qi4UI"
      },
      "execution_count": null,
      "outputs": []
    },
    {
      "cell_type": "markdown",
      "source": [
        "Check IAM policies in both projects to ensure correct roles are applied."
      ],
      "metadata": {
        "id": "sWh-FFEYi4cO"
      }
    },
    {
      "cell_type": "code",
      "source": [
        "gcloud projects get-iam-policy spark-dev-techops-infra\n",
        "gcloud projects get-iam-policy spark-lambda-experiments"
      ],
      "metadata": {
        "id": "2vpVfeDYi4ko"
      },
      "execution_count": null,
      "outputs": []
    },
    {
      "cell_type": "markdown",
      "source": [
        "Example IAM Policy Bindings"
      ],
      "metadata": {
        "id": "twETLtPzi5KE"
      }
    },
    {
      "cell_type": "code",
      "source": [
        "bindings:\n",
        "- members:\n",
        "  - serviceAccount:service-<service-project-number>@gcp-sa-composer.iam.gserviceaccount.com\n",
        "  role: roles/compute.networkUser\n",
        "- members:\n",
        "  - serviceAccount:service-<service-project-number>@gcp-sa-composer.iam.gserviceaccount.com\n",
        "  role: roles/iam.serviceAccountUser"
      ],
      "metadata": {
        "id": "30sdm2nWi5Tu"
      },
      "execution_count": null,
      "outputs": []
    },
    {
      "cell_type": "markdown",
      "source": [
        "Cloud Logging Queries"
      ],
      "metadata": {
        "id": "1UNMjiQai4sm"
      }
    },
    {
      "cell_type": "code",
      "source": [
        "# Cloud Composer Errors\n",
        "resource.type=\"cloud_composer_environment\"\n",
        "resource.labels.environment_name=\"your-environment-name\"\n",
        "severity>=ERROR\n",
        "jsonPayload.message:(\"permission\" OR \"network\" OR \"subnet\" OR \"VPC\")\n",
        "\n",
        "# IAM Permission Issues\n",
        "resource.type=\"project\"\n",
        "resource.labels.project_id=\"spark-lambda-experiments\"\n",
        "protoPayload.serviceName=\"cloudresourcemanager.googleapis.com\"\n",
        "protoPayload.methodName=\"SetIamPolicy\"\n",
        "protoPayload.status.code=\"PERMISSION_DENIED\"\n",
        "\n",
        "# VPC Network Attachment Issues\n",
        "resource.type=\"gce_network\"\n",
        "resource.labels.project_id=\"spark-dev-techops-infra\"\n",
        "severity>=ERROR\n",
        "jsonPayload.message:(\"shared VPC\" OR \"subnet\" OR \"permission denied\")\n",
        "\n"
      ],
      "metadata": {
        "id": "3WRtLhG2i40l"
      },
      "execution_count": null,
      "outputs": []
    }
  ]
}